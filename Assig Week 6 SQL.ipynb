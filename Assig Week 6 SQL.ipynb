{
 "cells": [
  {
   "cell_type": "code",
   "execution_count": 1,
   "id": "e65551e3-c723-42e8-b96b-3035c3a300c7",
   "metadata": {},
   "outputs": [],
   "source": [
    "# Q1. What is a database? Differentiate between SQL and NoSQL databases."
   ]
  },
  {
   "cell_type": "code",
   "execution_count": null,
   "id": "a9a5e9f8-2732-4bd5-886a-990a7d688a55",
   "metadata": {},
   "outputs": [],
   "source": [
    "# A database is an organized collection of data that can be accessed, managed, and updated easily.\n",
    "\n",
    "# In SQL databases are databases,ae stored in table containing row and columns and each row represents a single record.\n",
    "\n",
    "# In NoSQL databases, on the other hand, data is not stored in tables, but in other ways, such as key-value pairs, documents, or graphs."
   ]
  },
  {
   "cell_type": "code",
   "execution_count": null,
   "id": "61371182-a327-4edb-9475-c6972a474cce",
   "metadata": {},
   "outputs": [],
   "source": [
    "#Q2. What is DDL? Explain why CREATE, DROP, ALTER, and TRUNCATE are used with an example."
   ]
  },
  {
   "cell_type": "code",
   "execution_count": null,
   "id": "c7562cb9-da52-4771-ba17-638889fd52d2",
   "metadata": {},
   "outputs": [],
   "source": [
    "#DDL stands for Data Definition Language. It is a set of SQL commands that are used to define the structure of a database. \n",
    "#DDL commands are used to create, alter, drop,and rename database objects, such as tables, views, and stored procedures."
   ]
  },
  {
   "cell_type": "code",
   "execution_count": null,
   "id": "630510e6-a3da-498c-99df-c3d7aecab6a2",
   "metadata": {},
   "outputs": [],
   "source": [
    "# Create command is used to create new database objects.\n",
    "\n",
    "CREATE TABLE employees (\n",
    "  id INT,\n",
    "  name VARCHAR(25),\n",
    "  age INT,\n",
    "  salary DECIMAL(8, 2)\n",
    ");"
   ]
  },
  {
   "cell_type": "code",
   "execution_count": null,
   "id": "79cb9162-060c-469c-a4d2-ab579897cf37",
   "metadata": {},
   "outputs": [],
   "source": [
    "# Drop command is used to delete existing data base objects\n",
    " DROP TABLE employees;"
   ]
  },
  {
   "cell_type": "code",
   "execution_count": null,
   "id": "9ac312b5-67cd-4c9c-a997-d3915bef64b6",
   "metadata": {},
   "outputs": [],
   "source": [
    "# Alter command is used to modify data base objects.\n",
    " ALTER TABLE employees\n",
    "ADD COLUMN email VARCHAR(115);"
   ]
  },
  {
   "cell_type": "code",
   "execution_count": null,
   "id": "cfcad17a-7ab3-4017-b438-25982e91dd00",
   "metadata": {},
   "outputs": [],
   "source": [
    "# The TRUNCATE statement is used to delete all data from a table, but it keeps the table structure intact.\n",
    "\n",
    "TRUNCATE TABLE employees;"
   ]
  },
  {
   "cell_type": "code",
   "execution_count": null,
   "id": "c56e93d6-ea52-4cef-a449-5c9e135065ba",
   "metadata": {},
   "outputs": [],
   "source": [
    "# What is DML? Explain INSERT, UPDATE, and DELETE with an example"
   ]
  },
  {
   "cell_type": "code",
   "execution_count": null,
   "id": "90376744-5194-4e65-bc62-1565f20e85a1",
   "metadata": {},
   "outputs": [],
   "source": [
    "# DML stands for Data Manipulation Language.\n",
    "#It is a set of SQL commands that are used to manipulate the data in a database. DML commands are used to insert, update, delete, and select data from tables."
   ]
  },
  {
   "cell_type": "code",
   "execution_count": null,
   "id": "25d7eaa9-1be9-4b4e-873e-e7fac51700e7",
   "metadata": {},
   "outputs": [],
   "source": [
    "# INSERT statement is used to insert new rows of data into a table.\n",
    "\n",
    "# INSERT INTO employees (id, name, age, salary)\n",
    "# VALUES (1, 'kaus', 35, 50000);"
   ]
  },
  {
   "cell_type": "code",
   "execution_count": null,
   "id": "eda82e6c-868c-4ae6-9e8d-9de0a1297b46",
   "metadata": {},
   "outputs": [],
   "source": [
    "# update is used to modify existing data ain table.\n",
    "\n",
    "UPDATE employees\n",
    "SET salary = 25000\n",
    "WHERE id = 1;"
   ]
  },
  {
   "cell_type": "code",
   "execution_count": null,
   "id": "258decf7-810a-476a-b566-a52d4d39ccdd",
   "metadata": {},
   "outputs": [],
   "source": [
    "# delete is used to remove rows from table.\n",
    "DELETE FROM employees\n",
    "WHERE age > 55;"
   ]
  },
  {
   "cell_type": "code",
   "execution_count": null,
   "id": "abff8353-ba77-452a-b389-0397fb593ae5",
   "metadata": {},
   "outputs": [],
   "source": [
    " # Q4. What is DQL? Explain SELECT with an example."
   ]
  },
  {
   "cell_type": "code",
   "execution_count": null,
   "id": "bfc8a316-f616-408f-8098-17855b6985c5",
   "metadata": {},
   "outputs": [],
   "source": [
    "# DQL stands for Data Query Language. \n",
    "# It is a set of SQL commands that are used to retrieve data from a database. DQL commands are used to select, project, and filter data from tables."
   ]
  },
  {
   "cell_type": "code",
   "execution_count": null,
   "id": "ec547d08-605f-4666-9b99-d9c7ebb6930f",
   "metadata": {},
   "outputs": [],
   "source": [
    "# select command is used to select data from table\n",
    "\n",
    "SELECT name, age, salary\n",
    "FROM employees\n",
    "WHERE age > 55;"
   ]
  },
  {
   "cell_type": "code",
   "execution_count": null,
   "id": "9ce665ce-8b9e-49f2-b698-119670276d76",
   "metadata": {},
   "outputs": [],
   "source": [
    "# Q5. Explain Primary Key and Foreign Key."
   ]
  },
  {
   "cell_type": "code",
   "execution_count": 5,
   "id": "8a82ec75-9db3-4575-b375-a022dbd090b6",
   "metadata": {},
   "outputs": [],
   "source": [
    "# A primary key is a unique identifier for each row in a table. It is a column (or a combination of columns) that cannot contain duplicate values.\n",
    "# it  is used to uniquely identify each row in a table, and it is often used to join tables together.\n",
    "\n",
    "#A foreign key is a column (or a combination of columns) in one table that refers to the primary key in another table. \n",
    "# it  is used to establish a relationship between two tables. "
   ]
  },
  {
   "cell_type": "code",
   "execution_count": null,
   "id": "2ba5f376-697e-4ee4-92b7-b1ece130a08c",
   "metadata": {},
   "outputs": [],
   "source": [
    "# Q6. Write a python code to connect MySQL to python. Explain the cursor() and execute() method."
   ]
  },
  {
   "cell_type": "code",
   "execution_count": null,
   "id": "4568cb61-2436-4507-a97c-56aeb958d2c0",
   "metadata": {},
   "outputs": [],
   "source": [
    "import mysql.connector\n",
    "mydb = mysql.connector.connect(\n",
    "  host=\"localhost\",\n",
    "  user=\"abc\",\n",
    "  password=\"password\"\n",
    ")\n",
    "mycursor = mydb.cursor()\n",
    "#mycursor.execute(\"select * from test2.test_table\")\n",
    "mycursor.execute(\"select c1 , c5 from test2.test_table\")\n",
    "for i in mycursor.fetchall() : \n",
    "    print(i)\n",
    "\n",
    "mydb.close()"
   ]
  },
  {
   "cell_type": "code",
   "execution_count": null,
   "id": "bc104eb4-4010-4248-b245-ec867529034e",
   "metadata": {},
   "outputs": [],
   "source": [
    "# The cursor() method returns a cursor object that can be used to execute queries and fetch results.\n",
    "\n",
    " # The execute() method  takes the query as input and returns the results of the query."
   ]
  },
  {
   "cell_type": "code",
   "execution_count": null,
   "id": "a963757c-e425-4b97-9b2a-12658acb8232",
   "metadata": {},
   "outputs": [],
   "source": [
    "# Q7. Give the order of execution of SQL clauses in an SQL query."
   ]
  },
  {
   "cell_type": "code",
   "execution_count": null,
   "id": "d7cd47af-3539-4dbb-9111-b49ae1b84953",
   "metadata": {},
   "outputs": [],
   "source": [
    "\"SELECT\n",
    "FROM \n",
    "JOIN\n",
    "ON \n",
    "OUTER\n",
    "WHERE \n",
    "GROUP BY \n",
    "HAVING \n",
    "DISTINCT \n",
    "ORDER BY \n",
    "LIMIT\""
   ]
  },
  {
   "cell_type": "code",
   "execution_count": null,
   "id": "a0eb0cf8-61bb-422f-9571-754f091169b6",
   "metadata": {},
   "outputs": [],
   "source": []
  }
 ],
 "metadata": {
  "kernelspec": {
   "display_name": "Python 3 (ipykernel)",
   "language": "python",
   "name": "python3"
  },
  "language_info": {
   "codemirror_mode": {
    "name": "ipython",
    "version": 3
   },
   "file_extension": ".py",
   "mimetype": "text/x-python",
   "name": "python",
   "nbconvert_exporter": "python",
   "pygments_lexer": "ipython3",
   "version": "3.10.8"
  }
 },
 "nbformat": 4,
 "nbformat_minor": 5
}
